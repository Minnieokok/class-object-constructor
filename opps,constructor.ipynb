{
 "cells": [
  {
   "cell_type": "code",
   "execution_count": 1,
   "id": "3a76ecee-2e14-4602-a735-e398025ea06c",
   "metadata": {},
   "outputs": [],
   "source": [
    "class min:\n",
    "    pass"
   ]
  },
  {
   "cell_type": "code",
   "execution_count": 2,
   "id": "53284dc9-6293-4c22-9078-718befe6b9bb",
   "metadata": {},
   "outputs": [
    {
     "name": "stdout",
     "output_type": "stream",
     "text": [
      "Welcome to pw skills\n"
     ]
    }
   ],
   "source": [
    "class test:\n",
    "    def welcome_msg(self):\n",
    "        print(\"Welcome to pw skills\")\n",
    "rohan=test()\n",
    "rohan.welcome_msg()"
   ]
  },
  {
   "cell_type": "code",
   "execution_count": 3,
   "id": "e7aa4597-5848-48ac-9347-cf7c4ae9abc5",
   "metadata": {},
   "outputs": [],
   "source": [
    "#constructor"
   ]
  },
  {
   "cell_type": "code",
   "execution_count": 10,
   "id": "195c5be3-c48c-44c2-87be-96ca12b22acd",
   "metadata": {},
   "outputs": [],
   "source": [
    "class student_details:\n",
    "    def __init__(self,stu_id,stu_mob,stu_name):\n",
    "        self.stu_id=stu_id\n",
    "        self.stu_mob=stu_mob\n",
    "        self.stu_name=stu_name\n",
    "    def return_result(self):\n",
    "        return self.stu_id,self.stu_mob,self.stu_name\n",
    "rohan=student_details(101,39839393,\"mam\")\n",
    "        "
   ]
  },
  {
   "cell_type": "code",
   "execution_count": 11,
   "id": "4ad78b79-5b1f-4d9b-9e5c-353a896c889d",
   "metadata": {},
   "outputs": [
    {
     "data": {
      "text/plain": [
       "(101, 39839393, 'mam')"
      ]
     },
     "execution_count": 11,
     "metadata": {},
     "output_type": "execute_result"
    }
   ],
   "source": [
    "rohan.return_result()"
   ]
  },
  {
   "cell_type": "code",
   "execution_count": null,
   "id": "cee8d48b-f237-4ea7-8840-fcf11a474e97",
   "metadata": {},
   "outputs": [],
   "source": [
    "rohan"
   ]
  }
 ],
 "metadata": {
  "kernelspec": {
   "display_name": "Python 3 (ipykernel)",
   "language": "python",
   "name": "python3"
  },
  "language_info": {
   "codemirror_mode": {
    "name": "ipython",
    "version": 3
   },
   "file_extension": ".py",
   "mimetype": "text/x-python",
   "name": "python",
   "nbconvert_exporter": "python",
   "pygments_lexer": "ipython3",
   "version": "3.10.8"
  }
 },
 "nbformat": 4,
 "nbformat_minor": 5
}
